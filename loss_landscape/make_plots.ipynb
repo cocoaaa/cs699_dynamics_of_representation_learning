{
 "cells": [
  {
   "cell_type": "markdown",
   "id": "41e891d1",
   "metadata": {},
   "source": [
    "# Generate plots of the trajectory on the loss landscape\n",
    "Given:\n",
    "- ckpt_dir: path to a ckpt directory that contains the ckpted model states for 200 epochs of training\n",
    "- "
   ]
  },
  {
   "cell_type": "markdown",
   "id": "a0047f60",
   "metadata": {},
   "source": [
    "Steps:\n",
    "1. Compute the trajectories during optimization steps (optimization of the learning objective function)\n",
    "\n",
    "Inputs: \n",
    "- a folder of checkpoints (-s argument), \n",
    "- precomputed gradient's directions (npz file)\n",
    "\n",
    "Effects:\n",
    "- creates the `trajectory folder` specified by the  \"-r (ie. trajectory) folder\", and\n",
    "- saves the projection file in that directory\n",
    "\n",
    "Command: \n",
    "```python\n",
    "python compute_trajectory.py \\\n",
    "-s '../results/hw1-exp1/resnet20/run_20220212-184545/ckpts/' \\\n",
    "--direction_file \"../results/hw1-exp1/resnet20/run_20220212-184545/fds/buffer.npy.npz\" \\\n",
    "-r \"../results/hw1-exp1/resnet20/run_20220212-184545/trajectories\" \\\n",
    "--projection_file fd_dir_proj.npz --model resnet20 \n",
    "```\n",
    "\n",
    "Stdout:\n",
    "```shell\n",
    "#output looks like following:\n",
    "2022-02-13 14:57:01,098 using resnet20 with 269722 parameters\n",
    "2022-02-13 14:57:01,104 Found 201 models\n",
    "2022-02-13 14:57:18,201 Dot product is 1.6763806343078613e-08\n",
    "2022-02-13 14:57:18,882 Saving results\n",
    "2022-02-13 14:57:18,925 xrange: -0.18108321726322174, 0.3358021676540375\n",
    "2022-02-13 14:57:18,930 yrange: -0.11699468642473221, 0.3524200916290283\n",
    "```\n",
    "\n",
    "2.  Compute loss landscapes of final models\n",
    "This step creates a new folder `loss_surface` inside the `run-<run_id>` folder, and\n",
    "saves the file as argument of `--surface_file` \n",
    "\n",
    "Caution: this takes a long time! (maybe a bug in the provided code; doesn't seem like\n",
    "using the GPU properly)\n",
    "\n",
    "Command:\n",
    "```python\n",
    "nohup \\\n",
    "python compute_loss_surface.py \\\n",
    "--result_folder results/resnet20_skip_bn_bias_remove_skip_connections/loss_surface/  \\\n",
    "-s \"../results/hw1-exp1/resnet20/run_20220212-184545/ckpts/200_model.pt\"  \\\n",
    "--batch_size 1000  \\\n",
    "--model resnet20  \\\n",
    "--direction_file \"../results/hw1-exp1/resnet20/run_20220212-184545/fds/buffer.npy.npz\" \\\n",
    "--surface_file fd_dir_loss_surface.npz \\\n",
    "--gpu_id 0 \\\n",
    "--xcoords 51:-10:40 --ycoords 51:-10:40  > log-compute-loss-surface.txt&             \n",
    "```\n",
    "\n",
    "3. Plot the results \n",
    "Inputs:\n",
    "- trajectory file or surface file or both \n",
    "\n",
    "Command:\n",
    "- Use both trajectory and surface files\n",
    "\n",
    "```python\n",
    "python plot.py --result_folder figures/resnet56/ \\\n",
    "--trajectory_file r\"../results/hw1-exp1/resnet20/run_20220212-184545/trajectories/fd_dir_proj.npz\"  \\\n",
    "--surface_file \"../results/hw1-exp1/resnet20/run_20220212-184545/loss_surface/fd_dir_loss_surface.npz\" \\\n",
    "--plot_prefix resnet20_fd_dir\n",
    "```\n",
    "\n",
    "- Use only the trajectory file\n",
    "\n",
    "```python\n",
    "python plot.py --result_folder \"../results/hw1-exp1/resnet20/run_20220212-184545/plots\" \\\n",
    "--trajectory_file \"../results/hw1-exp1/resnet20/run_20220212-184545/trajectories/fd_dir_proj.npz\"  \\\n",
    "--plot_prefix resnet20_fd_dir_traj\n",
    "```\n"
   ]
  },
  {
   "cell_type": "code",
   "execution_count": null,
   "id": "39032e73",
   "metadata": {},
   "outputs": [],
   "source": [
    "../results/hw1-exp1/resnet20/run_20220212-182238"
   ]
  },
  {
   "cell_type": "code",
   "execution_count": 1,
   "id": "7cae7561",
   "metadata": {},
   "outputs": [],
   "source": [
    "from pathlib import Path"
   ]
  },
  {
   "cell_type": "markdown",
   "id": "ebe30194",
   "metadata": {},
   "source": [
    "### Step 1: compute trajectorties in the loss lanscape"
   ]
  },
  {
   "cell_type": "code",
   "execution_count": 301,
   "id": "5cbd653e",
   "metadata": {},
   "outputs": [],
   "source": [
    "exp_name = 'hw1-exp1' #'hw1-exp6-run1'\n",
    "model_name = 'resnet20'\n",
    "run_id = 'run_20220212-182238'\n",
    "use_skip = True\n",
    "\n",
    "# for fcnets\n",
    "n_hidden = 128\n",
    "act_fn = 'relu' #'relu', 'leaky', 'softplus'\n",
    "use_bn = False\n",
    "\n",
    "\n",
    "exp_dir = Path(f'../results/{exp_name}/{model_name}/{run_id}')\n",
    "ckpt_dir =  exp_dir/'ckpts'\n",
    "\n",
    "# compute trajectory\n",
    "direction_fp = exp_dir/'fds/buffer.npy.npz'\n",
    "traj_dir = exp_dir/'trajectories'\n",
    "proj_type = 'fd'\n",
    "proj_fn = f'{proj_type}_dir_proj.npz'\n",
    "\n",
    "# plot trajectory and/or loss contour lines\n",
    "plot_dir = exp_dir/'plots'\n",
    "traj_fp = traj_dir/f'{proj_fn}'\n",
    "# plot_prefix = f\"{model_name}_{proj_type}_dir_traj\"\n",
    "plot_prefix = f\"{model_name}_{proj_type}\" #both traj and surface\n",
    "\n",
    "# compute loss values along the trajectory\n",
    "loss_dir = exp_dir/'loss_surface'\n",
    "final_model_fp = ckpt_dir / '200_model.pt'\n",
    "compute_loss_bs = 514\n",
    "loss_surface_fn = f'{proj_type}_dir_loss_surface.npz'\n",
    "loss_surface_fp = loss_dir / loss_surface_fn\n",
    "\n",
    "# gpu_id = 0\n",
    "# gpu_id = 1\n",
    "# gpu_id = 2\n",
    "gpu_id = 3\n",
    "\n",
    "\n",
    "x_min, x_max = -0.35, 0.35\n",
    "y_min, y_max = -0.35, 0.35\n",
    "\n",
    "\n"
   ]
  },
  {
   "cell_type": "code",
   "execution_count": 302,
   "id": "533e4ae1",
   "metadata": {},
   "outputs": [
    {
     "name": "stdout",
     "output_type": "stream",
     "text": [
      "\n",
      "python compute_trajectory.py -s '../results/hw1-exp1/resnet20/run_20220212-182238/ckpts' --direction_file \"../results/hw1-exp1/resnet20/run_20220212-182238/fds/buffer.npy.npz\" -r \"../results/hw1-exp1/resnet20/run_20220212-182238/trajectories\" --projection_file \"fd_dir_proj.npz\" --model resnet20  \n"
     ]
    }
   ],
   "source": [
    "compute_traj_cmd = f'''\n",
    "python compute_trajectory.py \\\n",
    "-s '{ckpt_dir}' \\\n",
    "--direction_file \"{direction_fp}\" \\\n",
    "-r \"{traj_dir}\" \\\n",
    "--projection_file \"{proj_fn}\" \\\n",
    "--model {model_name}  '''\n",
    "\n",
    "if 'resnet' in model_name and not use_skip:\n",
    "    compute_traj_cmd += '--remove_skip_connections  '\n",
    "    \n",
    "if 'fcnet' in model_name:\n",
    "    compute_traj_cmd += f'--n_hidden {n_hidden} --act {act_fn}  '\n",
    "    if use_bn: \n",
    "        compute_traj_cmd += '--use_bn '\n",
    "    \n",
    "print(compute_traj_cmd)"
   ]
  },
  {
   "cell_type": "code",
   "execution_count": null,
   "id": "33f25513",
   "metadata": {},
   "outputs": [],
   "source": []
  },
  {
   "cell_type": "markdown",
   "id": "514bf833",
   "metadata": {},
   "source": [
    "### Step 2: Compute loss surface\n",
    "Compute values of loss function at each model checkpoint state (as we move\n",
    "in the directions (on the domain of the loss function, i.e. the parameter space)\n",
    "as saved in the `--direction_file` (which is saved as npz file named `{traj_fp}`"
   ]
  },
  {
   "cell_type": "code",
   "execution_count": 303,
   "id": "1e23fab7",
   "metadata": {},
   "outputs": [
    {
     "name": "stdout",
     "output_type": "stream",
     "text": [
      "\n",
      "nohup python compute_loss_surface.py -s \"../results/hw1-exp1/resnet20/run_20220212-182238/ckpts/200_model.pt\"  --model resnet20  --direction_file \"../results/hw1-exp1/resnet20/run_20220212-182238/fds/buffer.npy.npz\" --batch_size 514  --result_folder \"../results/hw1-exp1/resnet20/run_20220212-182238/loss_surface\"  --surface_file \"fd_dir_loss_surface.npz\"  --gpu_id 3  --xcoords 51:-0.35:0.35 --ycoords 51:-0.35:0.35   &\n"
     ]
    }
   ],
   "source": [
    "compute_loss_surface_cmd=f'''\n",
    "nohup python compute_loss_surface.py \\\n",
    "-s \"{final_model_fp}\"  \\\n",
    "--model {model_name}  \\\n",
    "--direction_file \"{direction_fp}\" \\\n",
    "--batch_size {compute_loss_bs}  \\\n",
    "--result_folder \"{loss_dir}\"  \\\n",
    "--surface_file \"{loss_surface_fn}\"  \\\n",
    "--gpu_id {gpu_id}  \\\n",
    "--xcoords 51:{x_min}:{x_max} --ycoords 51:{y_min}:{y_max} \\\n",
    "'''\n",
    "\n",
    "\n",
    "if 'resnet' in model_name and not use_skip:\n",
    "    compute_loss_surface_cmd += '--remove_skip_connections  '\n",
    "    \n",
    "if 'fcnet' in model_name:\n",
    "    compute_loss_surface_cmd += f'--n_hidden {n_hidden} --act {act_fn}  '\n",
    "    if use_bn: \n",
    "        compute_loss_surface_cmd += '--use_bn '\n",
    "    \n",
    "compute_loss_surface_cmd += '  &'\n",
    "print(compute_loss_surface_cmd)"
   ]
  },
  {
   "cell_type": "code",
   "execution_count": null,
   "id": "19c9a441",
   "metadata": {},
   "outputs": [],
   "source": []
  },
  {
   "cell_type": "markdown",
   "id": "d8584f63",
   "metadata": {},
   "source": [
    "### Step 3: Plot the trajectory and loss surface"
   ]
  },
  {
   "cell_type": "code",
   "execution_count": 304,
   "id": "f78454eb",
   "metadata": {},
   "outputs": [
    {
     "name": "stdout",
     "output_type": "stream",
     "text": [
      "\n",
      "python plot.py --result_folder \"../results/hw1-exp1/resnet20/run_20220212-182238/plots\" --trajectory_file \"../results/hw1-exp1/resnet20/run_20220212-182238/trajectories/fd_dir_proj.npz\"  --surface_file \"../results/hw1-exp1/resnet20/run_20220212-182238/loss_surface/fd_dir_loss_surface.npz\"  --plot_prefix \"resnet20_fd\" \n",
      "\n"
     ]
    }
   ],
   "source": [
    "plot_traj_cmd = f'''\n",
    "python plot.py --result_folder \"{plot_dir}\" \\\n",
    "--trajectory_file \"{traj_fp}\"  \\\n",
    "--surface_file \"{loss_surface_fp}\"  \\\n",
    "--plot_prefix \"{plot_prefix}\" \n",
    "'''\n",
    "\n",
    "print(plot_traj_cmd)"
   ]
  },
  {
   "cell_type": "code",
   "execution_count": null,
   "id": "71c8be93",
   "metadata": {},
   "outputs": [],
   "source": []
  },
  {
   "cell_type": "code",
   "execution_count": null,
   "id": "a3443651",
   "metadata": {},
   "outputs": [],
   "source": []
  }
 ],
 "metadata": {
  "kernelspec": {
   "display_name": "Python [conda env:test]",
   "language": "python",
   "name": "conda-env-test-py"
  },
  "language_info": {
   "codemirror_mode": {
    "name": "ipython",
    "version": 3
   },
   "file_extension": ".py",
   "mimetype": "text/x-python",
   "name": "python",
   "nbconvert_exporter": "python",
   "pygments_lexer": "ipython3",
   "version": "3.8.12"
  }
 },
 "nbformat": 4,
 "nbformat_minor": 5
}
